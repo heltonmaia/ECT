{
  "nbformat": 4,
  "nbformat_minor": 0,
  "metadata": {
    "colab": {
      "name": "Aula 3_4 - Trabalhando com o Google Colab ",
      "provenance": [],
      "collapsed_sections": [
        "t88MlyG9d_gH",
        "kimlSzRVwlN2"
      ],
      "include_colab_link": true
    },
    "kernelspec": {
      "name": "python3",
      "display_name": "Python 3"
    },
    "accelerator": "GPU"
  },
  "cells": [
    {
      "cell_type": "markdown",
      "metadata": {
        "id": "view-in-github",
        "colab_type": "text"
      },
      "source": [
        "<a href=\"https://colab.research.google.com/github/heltonmaia/ECT/blob/master/Aula_3_4_Trabalhando_com_o_Google_Colab.ipynb\" target=\"_parent\"><img src=\"https://colab.research.google.com/assets/colab-badge.svg\" alt=\"Open In Colab\"/></a>"
      ]
    },
    {
      "cell_type": "markdown",
      "metadata": {
        "colab_type": "text",
        "id": "5fCEDCU_qrC0"
      },
      "source": [
        "<p><img alt=\"Colaboratory logo\" height=\"45px\" src=\"/img/colab_favicon.ico\" align=\"left\" hspace=\"10px\" vspace=\"0px\"></p>\n",
        "\n",
        "<h1>O que é Colaboratory?</h1>\n",
        "\n",
        "Colaboratory, ou \"Colab\" permite que você escreva e execute programas em python com as sequintes falicidades: \n",
        "\n",
        "- Sem configuração prévia do ambiente;\n",
        "- Acesso livre para GPUs;\n",
        "- Facilidade de compartilhamento.\n"
      ]
    },
    {
      "cell_type": "markdown",
      "metadata": {
        "colab_type": "text",
        "id": "MVtczycyMFRY"
      },
      "source": [
        "## Informações Gerais sobre o Ambiente de Desenvolvimento\n",
        "\n",
        "- Primeiro, crie um novo notebook e selecione a versão Python 3;\n",
        "- Configure a hardware a ser utilizado em Edit/Notebook Settings/Hardware Accelerator/GPU;\n",
        "- Inicie uma sessão \"runtime\" e certifique-se que foi conectado;\n",
        "- Para execurar uma cell, pressione shift+enter;\n",
        "\n"
      ]
    },
    {
      "cell_type": "markdown",
      "metadata": {
        "colab_type": "text",
        "id": "GJBs_flRovLc"
      },
      "source": [
        "## Começando a utilizar\n",
        "\n",
        "O documento no ** Colab notebook ** permite escrever e executar os códigos.\n",
        "\n",
        "Abaixo, um exemplo de **code cell** onde uma variável armazena e imprime seu valor. Utilize o comando \"Command/Ctrl+Enter\" para visualizar a execução:"
      ]
    },
    {
      "cell_type": "code",
      "metadata": {
        "colab_type": "code",
        "id": "gJr_9dXGpJ05",
        "colab": {}
      },
      "source": [
        "#quantidade de segundos em um dia\n",
        "seg_dia = 24 * 60 * 60\n",
        "print('segundos:', seg_dia)"
      ],
      "execution_count": 0,
      "outputs": []
    },
    {
      "cell_type": "code",
      "metadata": {
        "colab_type": "code",
        "id": "-gE-Ez1qtyIA",
        "outputId": "eaa79735-be43-446c-c7cc-cfb6580f30ab",
        "colab": {
          "base_uri": "https://localhost:8080/",
          "height": 34
        }
      },
      "source": [
        "#segundos em uma semana, aproveitando a variavel anterior\n",
        "seg_semana = 7 * seg_dia\n",
        "seg_semana"
      ],
      "execution_count": 0,
      "outputs": [
        {
          "output_type": "execute_result",
          "data": {
            "text/plain": [
              "604800"
            ]
          },
          "metadata": {
            "tags": []
          },
          "execution_count": 5
        }
      ]
    },
    {
      "cell_type": "markdown",
      "metadata": {
        "id": "yzKqIxrFcK4G",
        "colab_type": "text"
      },
      "source": [
        "## Text cells\n",
        "Na **text cell** você pode dazer um **double-click** para editar utilizando a sintaxe markdown.  Para maiores informações, veja: [markdown\n",
        "guide](/notebooks/markdown_guide.ipynb).\n",
        "\n",
        "Também é possível utilizar o [LaTeX](http://www.latex-project.org/)\n",
        "Por exemplo `$\\sqrt{3x-1}+(1+x)^2$` torna-se $\\sqrt{3x-1}+(1+x)^2.$\n",
        "\n",
        "Conhecem o Overleaf?\n"
      ]
    },
    {
      "cell_type": "markdown",
      "metadata": {
        "id": "t88MlyG9d_gH",
        "colab_type": "text"
      },
      "source": [
        "## Trabalhando com Python\n"
      ]
    },
    {
      "cell_type": "code",
      "metadata": {
        "id": "nnsct8fp3u_c",
        "colab_type": "code",
        "colab": {}
      },
      "source": [
        "import time\n",
        "\n",
        "print(\"Sleeping\")\n",
        "time.sleep(2) # sleep for a while; interrupt me!\n",
        "print(\"Done Sleeping\")\n",
        "\n",
        "# variaveis\n",
        "a = 1; b = 2\n",
        "\n",
        "c = a + b\n",
        "print(c)"
      ],
      "execution_count": 0,
      "outputs": []
    },
    {
      "cell_type": "code",
      "metadata": {
        "id": "UHlP3WcBRN-X",
        "colab_type": "code",
        "outputId": "bed11242-dec9-4e0c-87be-f91dde27fd93",
        "colab": {
          "base_uri": "https://localhost:8080/",
          "height": 69
        }
      },
      "source": [
        "import numpy as np\n",
        "np.__version__\n",
        "\n",
        "#criando uma array \n",
        "a = np.array([1,2,3,4])\n",
        "\n",
        "#exibindo valores\n",
        "print(a)\n",
        "print(a*2)\n",
        "print(a[0])"
      ],
      "execution_count": 0,
      "outputs": [
        {
          "output_type": "stream",
          "text": [
            "[1 2 3 4]\n",
            "[2 4 6 8]\n",
            "1\n"
          ],
          "name": "stdout"
        }
      ]
    },
    {
      "cell_type": "markdown",
      "metadata": {
        "id": "kimlSzRVwlN2",
        "colab_type": "text"
      },
      "source": [
        "## Isto é Linux?\n"
      ]
    },
    {
      "cell_type": "code",
      "metadata": {
        "id": "i2hrud_F5Z8Y",
        "colab_type": "code",
        "outputId": "2be0997a-403b-4fd6-a552-a21f952e75d1",
        "colab": {
          "base_uri": "https://localhost:8080/",
          "height": 121
        }
      },
      "source": [
        "#listando pastas\n",
        "#!ls -la /\n",
        "!touch test.txt\n",
        "!ls -la\n",
        "\n",
        "\n",
        "#Onde estamos?\n",
        "#!pwd\n",
        "#!ls -la\n",
        "#!uname -a\n",
        "\n",
        "#Check CPU e RAM\n",
        "#!cat /proc/cpuinfo\n",
        "#!cat /proc/meminfo\n",
        "\n",
        "#Check GPU\n",
        "#import tensorflow as tf\n",
        "#tf.test.gpu_device_name()"
      ],
      "execution_count": 0,
      "outputs": [
        {
          "output_type": "stream",
          "text": [
            "total 16\n",
            "drwxr-xr-x 1 root root 4096 Mar  6 21:09 .\n",
            "drwxr-xr-x 1 root root 4096 Mar  6 20:27 ..\n",
            "drwxr-xr-x 1 root root 4096 Mar  3 18:11 .config\n",
            "drwxr-xr-x 1 root root 4096 Mar  3 18:11 sample_data\n",
            "-rw-r--r-- 1 root root    0 Mar  6 21:09 test.txt\n"
          ],
          "name": "stdout"
        }
      ]
    },
    {
      "cell_type": "markdown",
      "metadata": {
        "id": "LbxUCGlG9ruH",
        "colab_type": "text"
      },
      "source": [
        "## (Exercício) Pesquisem e testem ao menos 10 diferentes comandos para execução via terminal no Linux."
      ]
    },
    {
      "cell_type": "markdown",
      "metadata": {
        "colab_type": "text",
        "id": "UdRyKR44dcNI"
      },
      "source": [
        "## Data science\n",
        "Com o colab é possíível utilizar as melhores ferramentas para manipulação e visualização de dados disponíveis para Python.\n",
        "\n",
        "Por exemplo, o **numpy** para computação científica e o **matplotlib** para visualização e geração de gráficos.\n",
        "\n",
        "https://numpy.org/\n",
        "\n",
        "https://matplotlib.org/\n"
      ]
    },
    {
      "cell_type": "code",
      "metadata": {
        "colab_type": "code",
        "id": "C4HZx7Gndbrh",
        "outputId": "c1ce4327-5c1d-47b2-d96f-07642842bb9d",
        "colab": {
          "base_uri": "https://localhost:8080/",
          "height": 295
        }
      },
      "source": [
        "import numpy as np\n",
        "from matplotlib import pyplot as plt\n",
        "\n",
        "#criando duas arrays\n",
        "a = np.array([1,2,3,4,5,6,7,8,9,10])\n",
        "b = np.array([1,2,4,3,7,6,8,9,4,3])\n",
        "\n",
        "#exibindo os dados\n",
        "plt.title(\"Visualizacao dos dados\")\n",
        "plt.xlabel(\"eixo horizontal\")\n",
        "plt.ylabel(\"Eixo y\")\n",
        "plt.plot(a,b,'o', color='red')\n",
        "\n",
        "#salvando a figura no colab\n",
        "plt.savefig('teste.png', format='png')\n",
        "plt.show()"
      ],
      "execution_count": 0,
      "outputs": [
        {
          "output_type": "display_data",
          "data": {
            "image/png": "[encoded data removed]",
            "text/plain": [
              "<Figure size 432x288 with 1 Axes>"
            ]
          },
          "metadata": {
            "tags": []
          }
        }
      ]
    },
    {
      "cell_type": "markdown",
      "metadata": {
        "colab_type": "text",
        "id": "aro-UJgUQSH1"
      },
      "source": [
        "# Integração com o Google Drive\n",
        "\n",
        "Colaboratory é integrado ao Drive. Isto permite o compartilhamento e acesso aos seus arquivos na nuvem e com outros usuários:\n",
        "\n",
        "* Veja no canto superior direito o icone do Drive, lá é permitido montar e ter acesso a seus arquivos."
      ]
    },
    {
      "cell_type": "code",
      "metadata": {
        "id": "0GiOT_ce97U3",
        "colab_type": "code",
        "colab": {}
      },
      "source": [
        "from google.colab import drive\n",
        "drive.mount('/content/drive')"
      ],
      "execution_count": 0,
      "outputs": []
    },
    {
      "cell_type": "markdown",
      "metadata": {
        "id": "kTUP4Kx9Wdzc",
        "colab_type": "text"
      },
      "source": [
        "# Exemplo sobre geração aleatória de dados utilizando o scatter plot."
      ]
    },
    {
      "cell_type": "code",
      "metadata": {
        "id": "hImH3M8QzBYk",
        "colab_type": "code",
        "colab": {}
      },
      "source": [
        "import numpy as np\n",
        "import matplotlib.pyplot as plt\n",
        "\n",
        "xdata = np.random.randint(1,100,150)\n",
        "ydata = np.random.randint(100,200,150)\n",
        "\n",
        "#print(np.size(xdata))\n",
        "plt.scatter(xdata,ydata);\n",
        "help(np.random.randint)"
      ],
      "execution_count": 0,
      "outputs": []
    },
    {
      "cell_type": "markdown",
      "metadata": {
        "id": "sNxgA1yAZN8H",
        "colab_type": "text"
      },
      "source": [
        "# (Exercício) Repita o exemplo anterior, fazendo o plot de uma senoide, e ainda, salve a figura no seu google drive."
      ]
    },
    {
      "cell_type": "code",
      "metadata": {
        "colab_type": "code",
        "id": "sFOS4_ESbdh-",
        "outputId": "4f3d1dc2-0bc1-43c1-90c5-69178dcf694e",
        "colab": {
          "base_uri": "https://localhost:8080/",
          "height": 295
        }
      },
      "source": [
        "import numpy as np\n",
        "from matplotlib import pyplot as plt\n",
        "\n",
        "time = np.arange(0,10,0.1)\n",
        "amp = np.sin(time)\n",
        "\n",
        "plt.plot(time,amp)\n",
        "plt.title(\"Sine wave\")\n",
        "plt.xlabel('time')\n",
        "plt.ylabel('amplitude')\n",
        "plt.show()\n"
      ],
      "execution_count": 0,
      "outputs": [
        {
          "output_type": "display_data",
          "data": {
            "image/png": "[encoded data removed]",
            "text/plain": [
              "<Figure size 432x288 with 1 Axes>"
            ]
          },
          "metadata": {
            "tags": []
          }
        }
      ]
    },
    {
      "cell_type": "markdown",
      "metadata": {
        "id": "9HZXMAc197ea",
        "colab_type": "text"
      },
      "source": [
        "# Verificando pacotes com o pip\n",
        "https://pip.pypa.io/en/stable/reference/"
      ]
    },
    {
      "cell_type": "markdown",
      "metadata": {
        "id": "AsTt79ss4d3D",
        "colab_type": "text"
      },
      "source": [
        "## **Instalação de Pacotes**\n",
        "- Embora a maioria dos pacotes já estejam pré-instalados, é importante saber como inserir novos;\n",
        "- Lembre-se que estamos em um linux.\n",
        "- Veja alguns comandos de como instalar pacotes:"
      ]
    },
    {
      "cell_type": "code",
      "metadata": {
        "colab_type": "code",
        "id": "Yu3Zdd32MlbB",
        "colab": {}
      },
      "source": [
        "#opção 1\n",
        "#!pip install [package name]\n",
        "\n",
        "#opção 2\n",
        "#!apt list --installed\n",
        "#!apt-get install [package name]\n",
        "\n",
        "#opção 3\n",
        "#from google.colab import files\n",
        "#uploaded = files.upload()"
      ],
      "execution_count": 0,
      "outputs": []
    },
    {
      "cell_type": "code",
      "metadata": {
        "id": "iVjYyQ0S-CBH",
        "colab_type": "code",
        "outputId": "cdfd62b0-2b36-4675-aa2f-8c96d01573ab",
        "colab": {
          "base_uri": "https://localhost:8080/",
          "height": 402
        }
      },
      "source": [
        "#exibindo a versao do tensorflow\n",
        "!pip show tensorflow\n",
        "print(\"--------------\")\n",
        "#exibindo a versao do matplotlib\n",
        "!pip show matplotlib\n"
      ],
      "execution_count": 0,
      "outputs": [
        {
          "output_type": "stream",
          "text": [
            "Name: tensorflow\n",
            "Version: 1.15.0\n",
            "Summary: TensorFlow is an open source machine learning framework for everyone.\n",
            "Home-page: https://www.tensorflow.org/\n",
            "Author: Google Inc.\n",
            "Author-email: packages@tensorflow.org\n",
            "License: Apache 2.0\n",
            "Location: /usr/local/lib/python3.6/dist-packages\n",
            "Requires: keras-applications, numpy, absl-py, astor, six, termcolor, wrapt, tensorflow-estimator, opt-einsum, wheel, keras-preprocessing, google-pasta, protobuf, grpcio, tensorboard, gast\n",
            "Required-by: stable-baselines, magenta, fancyimpute\n",
            "--------------\n",
            "Name: matplotlib\n",
            "Version: 3.1.3\n",
            "Summary: Python plotting package\n",
            "Home-page: https://matplotlib.org\n",
            "Author: John D. Hunter, Michael Droettboom\n",
            "Author-email: matplotlib-users@python.org\n",
            "License: PSF\n",
            "Location: /usr/local/lib/python3.6/dist-packages\n",
            "Requires: pyparsing, kiwisolver, cycler, numpy, python-dateutil\n",
            "Required-by: yellowbrick, stable-baselines, seaborn, scikit-image, plotnine, pandas-profiling, mlxtend, mizani, missingno, matplotlib-venn, magenta, keras-vis, imgaug, fbprophet, fastai, descartes, daft\n"
          ],
          "name": "stdout"
        }
      ]
    },
    {
      "cell_type": "code",
      "metadata": {
        "id": "x27EJbyKNpm0",
        "colab_type": "code",
        "outputId": "c7c1dc2c-4733-4673-80d8-f2bb6000c538",
        "colab": {
          "base_uri": "https://localhost:8080/",
          "height": 228
        }
      },
      "source": [
        "import cv2 as cv\n",
        "cv.__version__\n",
        "#https://pypi.org/project/opencv-python/\n",
        "print(\"--------------\")\n",
        "!pip show opencv-python\n",
        "#!pip show opencv-contrib-python"
      ],
      "execution_count": 0,
      "outputs": [
        {
          "output_type": "stream",
          "text": [
            "--------------\n",
            "Name: opencv-python\n",
            "Version: 4.1.2.30\n",
            "Summary: Wrapper package for OpenCV python bindings.\n",
            "Home-page: https://github.com/skvark/opencv-python\n",
            "Author: None\n",
            "Author-email: None\n",
            "License: MIT\n",
            "Location: /usr/local/lib/python3.6/dist-packages\n",
            "Requires: numpy\n",
            "Required-by: tensor2tensor, stable-baselines, imgaug, dopamine-rl, albumentations\n"
          ],
          "name": "stdout"
        }
      ]
    },
    {
      "cell_type": "code",
      "metadata": {
        "id": "rU3FCZmy_QeJ",
        "colab_type": "code",
        "colab": {}
      },
      "source": [
        "#exibindo a lista de pacotes instalados \n",
        "#https://pip.pypa.io/en/stable/reference/pip_list/\n",
        "!pip list > pipPackages.txt"
      ],
      "execution_count": 0,
      "outputs": []
    },
    {
      "cell_type": "markdown",
      "metadata": {
        "id": "Z72E-RNDuScL",
        "colab_type": "text"
      },
      "source": [
        "# Entrem no website das bibliotecas e sejam curiosos em conhecer as funcionalidades. \n",
        "\n",
        "- No tensorflow, vejam algumas base de dados já disponíveis https://www.tensorflow.org/datasets/catalog/overview \n",
        "- No matplotlib, repitam algumas exemplos https://matplotlib.org/gallery/index.html\n",
        "\n"
      ]
    },
    {
      "cell_type": "markdown",
      "metadata": {
        "id": "vP2tJMRyBNfm",
        "colab_type": "text"
      },
      "source": [
        "# **Exemplo: Instalando OpenCV**"
      ]
    },
    {
      "cell_type": "code",
      "metadata": {
        "id": "iiJw10DVBTZI",
        "colab_type": "code",
        "colab": {}
      },
      "source": [
        "#Download lenna\n",
        "!wget https://pns2019.github.io/images/Lenna.png\n",
        "#!ls -la"
      ],
      "execution_count": 0,
      "outputs": []
    },
    {
      "cell_type": "code",
      "metadata": {
        "id": "K8uprB80BspM",
        "colab_type": "code",
        "colab": {}
      },
      "source": [
        "import cv2\n",
        "import matplotlib.pyplot as plt\n",
        "\n",
        "#abrindo uma imagem e efetuando operacoes\n",
        "img = cv2.imread('Lenna.png')\n",
        "gray = cv2.cvtColor(img, cv2.COLOR_BGR2GRAY)\n",
        "#criando subplots com a imagem rotacionada\n",
        "plt.subplot(1,2,1)\n",
        "plt.imshow(gray,cmap='gray')\n",
        "plt.subplot(1,2,2)\n",
        "plt.hist(gray.ravel(), bins = 256) #histogram"
      ],
      "execution_count": 0,
      "outputs": []
    },
    {
      "cell_type": "markdown",
      "metadata": {
        "id": "DV182goqqD3a",
        "colab_type": "text"
      },
      "source": [
        "(Exercício OpenCV) Faça inicialmente o upload para o google drive da imagem (shark.jpg) fornecida pelo professor. Depois realiza as seguintes atividades:\n",
        "\n",
        "- Converter para escala de cinza;\n",
        "- Recortar o caiaque, criando uma nova imagem com este objeto. No seu lugar, preencha os valores dos pixels com o valor médio da imagem ou outra solução que julgue melhor.\n",
        "- Mostre/salve as duas imagens em gray scale e seus respectivos histograms para comparação. "
      ]
    },
    {
      "cell_type": "markdown",
      "metadata": {
        "colab_type": "text",
        "id": "ishzk1q_bqWH"
      },
      "source": [
        "# More Resources\n",
        "\n",
        "### Working with Notebooks in Colab\n",
        "- [Overview of Colaboratory](/notebooks/basic_features_overview.ipynb)\n",
        "- [Guide to Markdown](/notebooks/markdown_guide.ipynb)\n"
      ]
    }
  ]
}
