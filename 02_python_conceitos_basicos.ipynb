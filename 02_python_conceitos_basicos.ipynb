{
  "nbformat": 4,
  "nbformat_minor": 0,
  "metadata": {
    "colab": {
      "name": "02-python-conceitos_basicos",
      "version": "0.3.2",
      "provenance": [],
      "include_colab_link": true
    },
    "kernelspec": {
      "name": "python3",
      "display_name": "Python 3"
    }
  },
  "cells": [
    {
      "cell_type": "markdown",
      "metadata": {
        "id": "view-in-github",
        "colab_type": "text"
      },
      "source": [
        "<a href=\"https://colab.research.google.com/github/heltonmaia/ECT/blob/master/02_python_conceitos_basicos.ipynb\" target=\"_parent\"><img src=\"https://colab.research.google.com/assets/colab-badge.svg\" alt=\"Open In Colab\"/></a>"
      ]
    },
    {
      "metadata": {
        "id": "do_KGdi3K12N",
        "colab_type": "text"
      },
      "cell_type": "markdown",
      "source": [
        "**PYTHON - Conteitos básicos:**\n",
        "- print e  comentários\n",
        "- variáveis e operações matemáticas\n",
        "- estruturas de decisão if, if-else\n",
        "- estruturas de repetição while e for\n",
        "- utilizando o módulo math\n",
        "- listas\n",
        "- funções\n",
        "- tuplas\n",
        "\n"
      ]
    },
    {
      "metadata": {
        "id": "pMdPVsBezMbl",
        "colab_type": "text"
      },
      "cell_type": "markdown",
      "source": [
        "# -----------------------#"
      ]
    },
    {
      "metadata": {
        "id": "Rp7f17UZG7CO",
        "colab_type": "code",
        "colab": {}
      },
      "cell_type": "code",
      "source": [
        "#print and comments\n",
        "ano = 2019\n",
        "print(\"Ola turma de:\", ano)\n",
        "print(\"\\n\")\n",
        "\n",
        "#print(\"okk\")\n",
        "\n",
        "\"\"\"\n",
        "help(print)\n",
        "print(1)\n",
        "\"\"\"\n",
        "print(\"helton's house \")\n",
        "print('helton\\'s house')"
      ],
      "execution_count": 0,
      "outputs": []
    },
    {
      "metadata": {
        "id": "UpyZk3ELxgwX",
        "colab_type": "code",
        "outputId": "1bcad8ec-0885-4e4e-baf1-46214cc972e7",
        "colab": {
          "base_uri": "https://localhost:8080/",
          "height": 34
        }
      },
      "cell_type": "code",
      "source": [
        "#variaveis e operações\n",
        "frase   = \"meu peso é:\"\n",
        "unidade = \"kg\"\n",
        "valor   = 70\n",
        "print(frase,valor,unidade)\n",
        "\n",
        "#declaracao multipla, nao utilize espaços, palavras reservadas\n",
        "#ou caracteres especiais\n",
        "x,y,z = 1,2,3\n",
        "k1=k2=k3=4*y\n",
        "print(x,y,z,k1,k2,k3)\n",
        "\n",
        "#input/output\n",
        "idade = input(\"Entre com sua idade: \")\n",
        "print(\"minha idade é:\",idade)\n",
        "type(idade)\n",
        "print(\"\\n\")\n",
        "idade = int(input(\"Entre com sua idade: \"))\n",
        "print(\"minha idade é:\",idade)\n",
        "type(idade)\n",
        "\n",
        "v1 = True\n",
        "v2 = False\n",
        "type(v1)\n",
        "print(int(v1))\n",
        "\n",
        "a,b = 1,2\n",
        "print(a > b)\n",
        "\n",
        "#a = False\n",
        "#bool(a)"
      ],
      "execution_count": 0,
      "outputs": [
        {
          "output_type": "stream",
          "text": [
            "1\n"
          ],
          "name": "stdout"
        }
      ]
    },
    {
      "metadata": {
        "id": "w9Jtc1wXBYNa",
        "colab_type": "code",
        "outputId": "b453c098-fd2e-4eec-e395-8b1517e2f523",
        "colab": {
          "base_uri": "https://localhost:8080/",
          "height": 34
        }
      },
      "cell_type": "code",
      "source": [
        "#if else ...\n",
        "idade = int(input(\"Digita sua idade: \"))\n",
        "\n",
        "resp = idade >= 18\n",
        "if resp == True:\n",
        "  print(\"Vc pode beber\")\n",
        "if resp == False:\n",
        "  print(\"Vc nao pode beber\")\n",
        "\n",
        "if idade>=18:\n",
        "  print(\"maior de idad\n",
        "else:\n",
        "  print(\"menor de idade\")\n",
        "\n",
        "  \n",
        "if 18 <=idade < 70:\n",
        "  print(\"vc pode receber o beneficio\")\n",
        "else:\n",
        "  print(\"vc n pode receber o beneficio\")\n",
        "  \n",
        "\n",
        "if idade < 18:\n",
        "  print(\"menor que 18\")\n",
        "elif idade < 20:\n",
        "  print(\"menor do que 20\")\n",
        "else:\n",
        "  print(\"nenhuma das oções\")\n",
        "\n",
        "#print(resp)"
      ],
      "execution_count": 0,
      "outputs": [
        {
          "output_type": "stream",
          "text": [
            "menor do que 20\n"
          ],
          "name": "stdout"
        }
      ]
    },
    {
      "metadata": {
        "id": "v90E_lmymWBH",
        "colab_type": "text"
      },
      "cell_type": "markdown",
      "source": [
        "**Exercício:** Faça um programa que receba dos números e imprima o maior deles."
      ]
    },
    {
      "metadata": {
        "id": "i81N8hUUqEc-",
        "colab_type": "code",
        "colab": {}
      },
      "cell_type": "code",
      "source": [
        "#aprendendo sobre o while\n",
        "cont = 0\n",
        "while (cont<10):\n",
        "  print(cont)\n",
        "  cont = cont + 1\n"
      ],
      "execution_count": 0,
      "outputs": []
    },
    {
      "metadata": {
        "id": "_975oqF20FCN",
        "colab_type": "text"
      },
      "cell_type": "markdown",
      "source": [
        "**Exercício:** Dado um número não negativo, calcular seu fatorial."
      ]
    },
    {
      "metadata": {
        "id": "iErTm9am0Mmk",
        "colab_type": "code",
        "colab": {}
      },
      "cell_type": "code",
      "source": [
        "n = int(input(\"Digite n:\"))\n",
        "\n",
        "fat = 1\n",
        "while(n>0):\n",
        "  fat = fat * n\n",
        "  n -= 1\n",
        "print(\"O valor %i foi obtido\" %fat)"
      ],
      "execution_count": 0,
      "outputs": []
    },
    {
      "metadata": {
        "id": "EzGpQAaAKrnB",
        "colab_type": "code",
        "colab": {}
      },
      "cell_type": "code",
      "source": [
        "#aprendendo for in range (percorrendo uma sequencia)\n",
        "n = 10\n",
        "for cont in range(n):\n",
        "  print(cont)\n",
        "  \n",
        "print(\"\\n\")\n",
        "\n",
        "for cont in range(2,6):\n",
        "  print(cont)\n",
        "  \n",
        "print(\"\\n\")\n",
        "for cont in range(2,22,2):\n",
        "  print(cont)\n",
        "  \n",
        "print(\"\\n\")\n",
        "for cont in range(22,2,-2):\n",
        "  print(cont)"
      ],
      "execution_count": 0,
      "outputs": []
    },
    {
      "metadata": {
        "id": "Plsrhe3GOTIG",
        "colab_type": "text"
      },
      "cell_type": "markdown",
      "source": [
        "**Módulo math:**"
      ]
    },
    {
      "metadata": {
        "id": "5pZxCfueOWlG",
        "colab_type": "code",
        "colab": {}
      },
      "cell_type": "code",
      "source": [
        "import math\n",
        "import math as m\n",
        "from math import sqrt as s\n",
        "\n",
        "print(math.factorial(5))\n",
        "print(math.pi)\n",
        "print(math.sqrt(25))\n",
        "print(s(25))"
      ],
      "execution_count": 0,
      "outputs": []
    },
    {
      "metadata": {
        "id": "MTSCrYimWp9b",
        "colab_type": "text"
      },
      "cell_type": "markdown",
      "source": [
        "**Listas:**"
      ]
    },
    {
      "metadata": {
        "id": "RkDUEdTnWuAG",
        "colab_type": "code",
        "outputId": "718be892-e4d9-4392-a0b4-5f3812e71216",
        "colab": {
          "base_uri": "https://localhost:8080/",
          "height": 34
        }
      },
      "cell_type": "code",
      "source": [
        "lista = [\"asdasdasdas\"]\n",
        "lista\n",
        "lista1 = [1,2,3,4,5,6]\n",
        "print(lista1[1])\n",
        "print(\"\\n\")\n",
        "\n",
        "lista1 += [7]\n",
        "print(lista1)\n",
        "print(\"\\n\")\n",
        "\n",
        "lista2 = ['a','b','c','d']\n",
        "print(lista2)\n",
        "print(\"\\n\")\n",
        "\n",
        "lista2[1:3]\n",
        "\n",
        "lista3=[1,2,3,[4,3,4]]\n",
        "lista3[3][1]\n",
        "\n",
        "vec = []\n",
        "for i in range(1,11):\n",
        "  vec.append(i)\n",
        "print(vec)\n",
        "  \n",
        "for i in range(0,9):\n",
        "  print(vec[i])\n",
        "  if vec[i] == 10:\n",
        "    vec.remove(vec[i])\n",
        "print(vec)\n",
        "\n",
        "#list\n",
        "lista5 = list(range(1,15))\n",
        "lista5\n",
        "list(\"asv\")"
      ],
      "execution_count": 0,
      "outputs": [
        {
          "output_type": "execute_result",
          "data": {
            "text/plain": [
              "['a', 's', 'v']"
            ]
          },
          "metadata": {
            "tags": []
          },
          "execution_count": 2
        }
      ]
    },
    {
      "metadata": {
        "id": "_4I6zss5t5wF",
        "colab_type": "text"
      },
      "cell_type": "markdown",
      "source": [
        "**Funções:**"
      ]
    },
    {
      "metadata": {
        "id": "jPEzjSHdt8Vf",
        "colab_type": "code",
        "outputId": "8fca2055-adbf-4f42-f50f-135f134f25f0",
        "colab": {
          "base_uri": "https://localhost:8080/",
          "height": 69
        }
      },
      "cell_type": "code",
      "source": [
        "#sem retorno\n",
        "def imprimirAlgo():\n",
        "  print(\"ola\")\n",
        "\n",
        "#retornando um valor\n",
        "def soma(n1,n2):\n",
        "  return (n1+n2)\n",
        "\n",
        "#retornando varios valores\n",
        "def sompot(n1, n2):\n",
        "  return n1+n2,n1*n2\n",
        "\n",
        "imprimirAlgo()\n",
        "print(soma(1,2))\n",
        "\n",
        "a,b = sompot(2,3)\n",
        "print(a,b)"
      ],
      "execution_count": 0,
      "outputs": [
        {
          "output_type": "stream",
          "text": [
            "ola\n",
            "3\n",
            "5 6\n"
          ],
          "name": "stdout"
        }
      ]
    },
    {
      "metadata": {
        "id": "a9wHos8Z-pPX",
        "colab_type": "text"
      },
      "cell_type": "markdown",
      "source": [
        "**Tuplas:** diferentes das listas, elas são imutáveis, utiliza-se parenteses em vez de colchetes.\n",
        "https://www.tutorialspoint.com/python/python_tuples.htm"
      ]
    },
    {
      "metadata": {
        "id": "4nHsZq1o-1pE",
        "colab_type": "code",
        "colab": {}
      },
      "cell_type": "code",
      "source": [
        "exLista=[]\n",
        "exTupla=()\n",
        "\n",
        "print(exLista,exTupla)\n",
        "\n",
        "exLista=[1,2,3]\n",
        "exTupla=(1,2,3)\n",
        "len(exTupla)\n",
        "\n",
        "#converter listas em tuplas\n",
        "a = tuple(exLista)\n",
        "print(a)\n",
        "\n",
        "#tuplas dentro de tuplas\n",
        "t = (1,[2,3],4,5)\n",
        "print (t[1][1])\n",
        "t = t*2\n",
        "print(t)\n",
        "\n",
        "#removendo elementos\n",
        "del t\n",
        "print (t)\n",
        "\n"
      ],
      "execution_count": 0,
      "outputs": []
    },
    {
      "metadata": {
        "id": "17UUhnVSgrAG",
        "colab_type": "text"
      },
      "cell_type": "markdown",
      "source": [
        "**Mais sobre funções:**\n",
        "Exercício: escreva uma função que recebe uma lista ou tupla de números e calcula a soma deste elementos "
      ]
    },
    {
      "metadata": {
        "id": "klT5jW1Zgp-F",
        "colab_type": "code",
        "outputId": "a0424ab9-9323-4079-c843-8e58b6f1939d",
        "colab": {
          "base_uri": "https://localhost:8080/",
          "height": 52
        }
      },
      "cell_type": "code",
      "source": [
        "def soma(lista):\n",
        "  soma = 0\n",
        "  \n",
        "  for num in lista:\n",
        "    soma += num\n",
        "    \n",
        "  return soma\n",
        "\n",
        "a = [10,20,30]\n",
        "print(soma(a))\n",
        "\n",
        "#funcao lambda, boa para callback functions\n",
        "lam = (lambda x,y,z:x+y+z)\n",
        "lam(1,2,3)"
      ],
      "execution_count": 0,
      "outputs": [
        {
          "output_type": "stream",
          "text": [
            "60\n"
          ],
          "name": "stdout"
        },
        {
          "output_type": "execute_result",
          "data": {
            "text/plain": [
              "6"
            ]
          },
          "metadata": {
            "tags": []
          },
          "execution_count": 1
        }
      ]
    }
  ]
}