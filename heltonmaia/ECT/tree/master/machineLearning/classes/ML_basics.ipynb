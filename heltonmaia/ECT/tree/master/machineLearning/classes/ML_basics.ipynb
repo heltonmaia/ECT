{
  "nbformat": 4,
  "nbformat_minor": 0,
  "metadata": {
    "colab": {
      "name": "ML-basics.ipynb",
      "provenance": [],
      "toc_visible": true,
      "authorship_tag": "ABX9TyNeTJlqIfg+nK0Ri9QeN2g5",
      "include_colab_link": true
    },
    "kernelspec": {
      "name": "python3",
      "display_name": "Python 3"
    },
    "language_info": {
      "name": "python"
    }
  },
  "cells": [
    {
      "cell_type": "markdown",
      "metadata": {
        "id": "view-in-github",
        "colab_type": "text"
      },
      "source": [
        "<a href=\"https://colab.research.google.com/github/heltonmaia/ECT/blob/master/heltonmaia/ECT/tree/master/machineLearning/classes/ML_basics.ipynb\" target=\"_parent\"><img src=\"https://colab.research.google.com/assets/colab-badge.svg\" alt=\"Open In Colab\"/></a>"
      ]
    },
    {
      "cell_type": "markdown",
      "source": [
        "\n",
        "*Machine Learning * asdasdasdas"
      ],
      "metadata": {
        "id": "xHInAggG8yQy"
      }
    },
    {
      "cell_type": "markdown",
      "source": [
        "\n",
        "\n",
        "```\n",
        "# erererer\n",
        "```\n",
        "\n",
        "# O que é machine learning?\n",
        "\n",
        "- definicao\n",
        "- figura do ponto de viosta programador\n"
      ],
      "metadata": {
        "id": "i1W9b-Sg9Vzn"
      }
    },
    {
      "cell_type": "markdown",
      "source": [
        "https://youtu.be/VwVg9jCtqaU"
      ],
      "metadata": {
        "id": "vAf-2VeZ80Z3"
      }
    }
  ]
}