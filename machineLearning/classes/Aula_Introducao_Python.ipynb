{
  "nbformat": 4,
  "nbformat_minor": 0,
  "metadata": {
    "colab": {
      "name": "Aula_Introducao_Python.ipynb",
      "provenance": [],
      "collapsed_sections": [],
      "toc_visible": true
    },
    "kernelspec": {
      "name": "python3",
      "display_name": "Python 3"
    }
  },
  "cells": [
    {
      "cell_type": "markdown",
      "metadata": {
        "id": "drIbZp6LJkwx"
      },
      "source": [
        "# Introdução - Python\n"
      ]
    },
    {
      "cell_type": "markdown",
      "metadata": {
        "id": "8ckMFLIZRO7x"
      },
      "source": [
        "- Estruturas de controle: if, elif, and else"
      ]
    },
    {
      "cell_type": "code",
      "metadata": {
        "id": "DRVPbQsgJdut",
        "outputId": "b7653c93-f9f3-4166-d3bb-7dddad8de39c",
        "colab": {
          "base_uri": "https://localhost:8080/",
          "height": 34
        }
      },
      "source": [
        "#Estruturas de controle (if, elif, else)\n",
        "x=1\n",
        "if (x>0):\n",
        "  print(\"valor positivo\")"
      ],
      "execution_count": null,
      "outputs": [
        {
          "output_type": "stream",
          "text": [
            "valor positivo\n"
          ],
          "name": "stdout"
        }
      ]
    },
    {
      "cell_type": "code",
      "metadata": {
        "id": "wnZDlcL-JvQ4",
        "outputId": "3da1a6ef-1258-40a5-f424-026fc45a32ec",
        "colab": {
          "base_uri": "https://localhost:8080/",
          "height": 34
        }
      },
      "source": [
        "# if, else\n",
        "x=-1\n",
        "if (x>0):\n",
        "  print(\"valor positivo\")\n",
        "else:\n",
        "  print(\"valor negativo\")"
      ],
      "execution_count": null,
      "outputs": [
        {
          "output_type": "stream",
          "text": [
            "valor negativo\n"
          ],
          "name": "stdout"
        }
      ]
    },
    {
      "cell_type": "code",
      "metadata": {
        "id": "NtK_f4jPQrgw",
        "outputId": "6204ee6f-bb25-4303-a992-30c8093935ae",
        "colab": {
          "base_uri": "https://localhost:8080/",
          "height": 34
        }
      },
      "source": [
        "# elif\n",
        "x=-1\n",
        "if (x>0):      print(\"valor positivo\")\n",
        "elif (x==-1):   print(\"valor igual a -1\")\n",
        "elif (x==-1):  print (\"=-1\")\n",
        "else:          print(\"negativo\")"
      ],
      "execution_count": null,
      "outputs": [
        {
          "output_type": "stream",
          "text": [
            "valor igual a -1\n"
          ],
          "name": "stdout"
        }
      ]
    },
    {
      "cell_type": "code",
      "metadata": {
        "id": "0jk_WJPlbuK8",
        "outputId": "6d6e3cb8-6f2a-458d-ff3f-870262a20339",
        "colab": {
          "base_uri": "https://localhost:8080/",
          "height": 52
        }
      },
      "source": [
        "# cadeia de comparacoes\n",
        "# https://www.geeksforgeeks.org/chaining-comparison-operators-python/\n",
        "a=1; b=2; c=3\n",
        "\n",
        "if (a<b and b<c):\n",
        "  print(\"ok\")\n",
        "\n",
        "a=1; b=2; c=2\n",
        "if (a<b==c): #diferente do c++ que seria falso, 1==2 \n",
        "  print(\"ok2\")"
      ],
      "execution_count": null,
      "outputs": [
        {
          "output_type": "stream",
          "text": [
            "ok\n",
            "ok2\n"
          ],
          "name": "stdout"
        }
      ]
    },
    {
      "cell_type": "markdown",
      "metadata": {
        "id": "F3ZY2779KuG-"
      },
      "source": [
        "- Variaveis"
      ]
    },
    {
      "cell_type": "code",
      "metadata": {
        "id": "OFiFiHncKtAw",
        "outputId": "78ab9776-43c0-4cf4-9b79-a16fadd66147",
        "colab": {
          "base_uri": "https://localhost:8080/",
          "height": 52
        }
      },
      "source": [
        "#string\n",
        "a=1; b=2; c=3; d=4\n",
        "\n",
        "nome=\"deep learning\"\n",
        "\n",
        "print(nome[0:4])\n",
        "#print(type(a))\n",
        "#print(type(nome))\n",
        "if (\"deep\" in nome): print(\"achei!\")"
      ],
      "execution_count": null,
      "outputs": [
        {
          "output_type": "stream",
          "text": [
            "deep\n",
            "achei!\n"
          ],
          "name": "stdout"
        }
      ]
    },
    {
      "cell_type": "markdown",
      "metadata": {
        "id": "6-9IPeBXSziC"
      },
      "source": [
        "- Estruturas de repetição, loops"
      ]
    },
    {
      "cell_type": "code",
      "metadata": {
        "id": "x7XVxVSIJ0Lv"
      },
      "source": [
        "# First, about collections (list, tuple, dict)\n",
        "#tuple: n é possivle modificar seus valores\n",
        "oq_e_isso = \"Python\", \"Deep Learning\", \"UFRN\"\n",
        "#oq_e_isso = (\"Python\", \"Deep Learning\", \"UFRN\")\n",
        "print(type(oq_e_isso))\n",
        "print(oq_e_isso[0])\n",
        "\n",
        "\n",
        "# standard syntax for a for loop is:\n",
        "#---------------------------\n",
        "# for value in collection:\n",
        "  #do something with value\n",
        "#---------------------------\n",
        "\n",
        "lista1 = [1,2,nome,nome,5]\n",
        "lista1[0]=10 #valores podem ser modificados nas litas\n",
        "print(lista1[0])\n",
        "print(type(lista1))\n",
        "\n",
        "#---------------------------\n",
        "total = 0\n",
        "\n",
        "for value in lista1:\n",
        "  #print(value)\n",
        "  total+=1\n",
        "  if (value==1): break\n",
        "\n",
        "#print(\"total de elementos: \", total)\n",
        "\n"
      ],
      "execution_count": null,
      "outputs": []
    },
    {
      "cell_type": "code",
      "metadata": {
        "id": "Tn26Q3xsci_Y"
      },
      "source": [
        "# Dicionario\n",
        "# Estrutura de dados mais comum no python\n",
        "# hash map or associative array\n",
        "\n",
        "vazio = {}\n",
        "print(type(vazio))\n",
        "\n",
        "dicio = {'a':'valor','b':[1,2,3],7:'um inteiro'}\n",
        "\n",
        "print(dicio['b'])\n",
        "'a' in dicio\n",
        "\n",
        "#trocando valor\n",
        "dicio['a']=22\n",
        "print(dicio)\n",
        "\n",
        "#deletando valor\n",
        "del dicio['a']\n",
        "print(dicio)\n",
        "\n",
        "print('-------------')\n",
        "for word in dicio:\n",
        "  if (word == 'b'): print('achei o b')\n",
        "  print(word) "
      ],
      "execution_count": null,
      "outputs": []
    },
    {
      "cell_type": "code",
      "metadata": {
        "id": "oSZcHVysJ0gB"
      },
      "source": [
        "#%%time\n",
        "#for and while loops sao uteis para uso nas colecoes (lista, tupla, etc)\n",
        "\n",
        "#for loop\n",
        "#ex2\n",
        "print(\"-----------\")\n",
        "for i in range(5):\n",
        "  print(i)\n",
        "\n",
        "#ex3\n",
        "print(\"-----------\")\n",
        "for i in range(1,5):\n",
        "  print(i)\n",
        "\n",
        "#ex4\n",
        "print(\"-----------\")\n",
        "frase = \"Hello World\"\n",
        "for x in frase:\n",
        "    print(x,end='')\n",
        "\n",
        "#ex5\n",
        "print()\n",
        "print(\"-----------\")\n",
        "lista_de_listas = [[1, 2, 3], [4, 5, 6], [7, 8, 9]]\n",
        "# Como vcs acham que deveria ser o for para este caso?\n",
        "\n",
        "for i in lista_de_listas:\n",
        "  print(i)\n",
        "\n",
        "for i in lista_de_listas:\n",
        "    for j in i:\n",
        "        print(j, end=' ')"
      ],
      "execution_count": null,
      "outputs": []
    },
    {
      "cell_type": "code",
      "metadata": {
        "id": "G0yVcVv0tplI"
      },
      "source": [
        "#while loops\n",
        "x = 5\n",
        "\n",
        "while(x>0):\n",
        "  print(x)\n",
        "  x-=1\n",
        "  \n",
        "#------\n",
        "x = 5\n",
        "while True:\n",
        "  if(x>0):\n",
        "    print('x:',x)\n",
        "    #print(f'x: {x}')\n",
        "  else: break\n",
        "  x-=1"
      ],
      "execution_count": null,
      "outputs": []
    },
    {
      "cell_type": "code",
      "metadata": {
        "id": "ucjRtrQmIT8h"
      },
      "source": [
        "#operador ternario\n",
        "x=-10\n",
        "'valor positivo' if x>=0 else 'valor negativo'"
      ],
      "execution_count": null,
      "outputs": []
    },
    {
      "cell_type": "markdown",
      "metadata": {
        "id": "2MIVeMuKJ01i"
      },
      "source": [
        "- Funções"
      ]
    },
    {
      "cell_type": "code",
      "metadata": {
        "id": "GAbGWi-hKBfi"
      },
      "source": [
        "#escreva uma funcao para informar de 0-10 se sua nora indica aprovacao, recuperacao ou reprovacao, conforme os criterios da UFRN\n",
        "\n",
        "def situacao(nota):\n",
        "  if nota<3:\n",
        "    return 'reprovado'\n",
        "  elif (3<=nota<5):#(nota>=3) & (nota<5): # cuidado com (nota>=3 & nota<5)\n",
        "    return 'recuperacao'\n",
        "  else:\n",
        "    return 'aprovado'\n",
        "\n",
        "for i in range(0,11):\n",
        "  #print(f'nota {i} : {situacao(i)}')\n",
        "  print('nota ', i, ': ', situacao(i))"
      ],
      "execution_count": null,
      "outputs": []
    },
    {
      "cell_type": "code",
      "metadata": {
        "id": "MUrahPLvFKe8"
      },
      "source": [
        "#escreva um programa/funcao para exibir os numeros primos dentro de um dado intervalo\n",
        "\n",
        "def primo(n):\n",
        "  if n > 2:\n",
        "    for i in range(2,n):\n",
        "      if((n%i)==0): \n",
        "        return ( ' Nao Primo')\n",
        "  return (' Primo')\n",
        "\n",
        "for i in range(1,20):\n",
        "    print(i, primo(i))"
      ],
      "execution_count": null,
      "outputs": []
    },
    {
      "cell_type": "code",
      "metadata": {
        "id": "9IUhD2WIkd3y"
      },
      "source": [
        "#retornando duas variaveis\n",
        "a=1;b=2\n",
        "\n",
        "def teste2v(x,y):\n",
        "  #x=0;y=0\n",
        "  return x,y\n",
        "\n",
        "c, d = teste2v(a,b)\n",
        "print(a,b,c,d)"
      ],
      "execution_count": null,
      "outputs": []
    },
    {
      "cell_type": "markdown",
      "metadata": {
        "id": "nA56iYOD7GhJ"
      },
      "source": [
        "- Manipulação de arquivos (*Comma Separated Values* - csv) usando o pandas"
      ]
    },
    {
      "cell_type": "code",
      "metadata": {
        "id": "buVL5QZE6oNK"
      },
      "source": [
        "#https://pandas.pydata.org/pandas-docs/stable/getting_started/\n",
        "\n",
        "import pandas as pd\n",
        "\n",
        "#Armazenar dados em um tabela\n",
        "\n",
        "df = pd.DataFrame({\n",
        "    \"Nome\":[\"aluno 1\", \"aluno 2\", \"aluno 3\"],\n",
        "    \"Media\":[3.5, 8.5, 10],\n",
        "    \"Situacao\":[\"rep\",\"apr\",\"apr\"]}\n",
        ")\n",
        "\n",
        "print(df)\n",
        "print(df[\"Nome\"].values)\n",
        "#print(df[\"Media\"].min())\n",
        "#print(df[\"Media\"].describe())\n",
        "\n",
        "#salvando file\n",
        "path = '/content/drive/My Drive/UFRN/ECT-Aulas_Orientacao/DL/2020-1/'\n",
        "fileName = 'ex1.csv'\n",
        "#print(path+fileName)\n",
        "df.to_csv(path+fileName)\n"
      ],
      "execution_count": null,
      "outputs": []
    }
  ]
}