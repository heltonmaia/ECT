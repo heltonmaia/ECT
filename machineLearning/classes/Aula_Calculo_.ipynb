{
  "nbformat": 4,
  "nbformat_minor": 0,
  "metadata": {
    "colab": {
      "name": "Aula_Calculo_.ipynb",
      "provenance": [],
      "collapsed_sections": [],
      "toc_visible": true
    },
    "kernelspec": {
      "name": "python3",
      "display_name": "Python 3"
    }
  },
  "cells": [
    {
      "cell_type": "markdown",
      "metadata": {
        "id": "mxwI-TApYt78"
      },
      "source": [
        "# Estudaremos nessa aula:\n",
        "- Conceitos básicos de  Cálculo para *Machine Learning*\n",
        "\n",
        "- Material de suporte, baseado em: [Book: Dive into Deep Learning](http://d2l.ai/chapter_preliminaries/ndarray.html)\n",
        "- [Youtube vídeo sobre Cálculo](https://youtu.be/WUvTyaaNkzM)\n",
        "- Conhece a biblioteca [Matplotlib](https://matplotlib.org/)\n",
        "- Regra da cadeia [youtube](https://youtu.be/p9xjPa1EVrw)\n"
      ]
    },
    {
      "cell_type": "markdown",
      "metadata": {
        "id": "uPsWeJRTZGzz"
      },
      "source": [
        "Em ***Machine Learning***, treinamos modelos, atualizando-os sucessivamente para que eles fiquem cada vez melhores à medida que são inseridos mais e mais dados.\n",
        "Geralmente, melhorar a acurácia de uma rede neural, significa minimizar uma função de perda (*loss function*), que responde à pergunta \"quão ruim seria este modelo?\".\n",
        "Por fim, o que realmente interessa é produzir um modelo com um bom desempenho para dados que nunca foram apresentados ao modelo durante o treinamento. \n",
        "\n",
        "Assim, a tarefa de ajustar (*fitting*) os modelos possuem duas preocupações principais: i) otimização: o processo de ajustar o modelos aos dados apresentados; ii) generalização: a capacidade de produzir modelos cuja validade se estende além do conjunto de dados (*dataset*) utilizados para treiná-los.\n"
      ]
    },
    {
      "cell_type": "code",
      "metadata": {
        "id": "kJz1_GrtY5G2"
      },
      "source": [
        "#importanto bibliotecas\n"
      ],
      "execution_count": 2,
      "outputs": []
    },
    {
      "cell_type": "markdown",
      "metadata": {
        "id": "Vfkr-yefcQ8o"
      },
      "source": [
        "# Derivadas e Diferenciação\n",
        "\n",
        "O cálculo de derivadas é essencial para quase todos os algoritmos de otimização no *machine learning*, incluindo sua utilização em *loss functions*, que são diferenciáveis em relaçao aos parâmetros do nosso modelo.\n",
        "\n",
        "Considerando a seguinte função: $f: \\mathbb{R} \\rightarrow \\mathbb{R}$,\n",
        "na qual a entrada e saída são escalares, a derivada de $f$ é definida como:\n",
        "\n",
        "$$f'(x) = \\lim_{h \\rightarrow 0} \\frac{f(x+h) - f(x)}{h},$$\n",
        "\n",
        ":eqlabel:`eq_derivada`\n",
        "\n",
        "Se o limite $f'(x)$ existe, é dito que $f$ é diferenciável em $x$. Podemos interpretar a derivada $f'(x)$ in :eqref:`eq_derivada` como a taxa de variação instantânea (*instantaneous rate*) de $f(x)$ em relação a $x$. Essa taxa de variação é baseada na variação $h$ em $x$, se aproximando de $0$.\n",
        "\n",
        "Por exemplo:\n",
        "$u = f(x) = 3x^2-4x$."
      ]
    },
    {
      "cell_type": "code",
      "metadata": {
        "id": "KcHL4Z5mlTBW"
      },
      "source": [
        "#função para cauclular f(x)\n"
      ],
      "execution_count": null,
      "outputs": []
    },
    {
      "cell_type": "markdown",
      "metadata": {
        "id": "2oiYbe1Ooljo"
      },
      "source": [
        "Definindo $x=1$ e permitindo que $h$ se aproxime de $0$, o resultado numérico de $\\frac{f(x+h) - f(x)}{h}$ em :eq:`eq_derivada` se apxoxima de $2$.\n",
        "Da mesma forma, veremos que a derivada $u'$ é $2$ quando $x=1$."
      ]
    },
    {
      "cell_type": "code",
      "metadata": {
        "id": "nDb440Msom7W"
      },
      "source": [
        "#função para calcular a derivada\n",
        "\n",
        "#estrutura de repetição para calcular a derivada\n"
      ],
      "execution_count": null,
      "outputs": []
    },
    {
      "cell_type": "markdown",
      "metadata": {
        "id": "qHqhr530U5zG"
      },
      "source": [
        "Segue algumas notações úteis para os estudos sobre diferenciação.\n",
        "Dado $y = f(x)$, temos $x$ and $y$ como variáveis independentes, e dependentes da função $f$, respectivamente. As seguintes expressões são equivalentes:\n",
        "\n",
        "$$f'(x) = y' = \\frac{dy}{dx} = \\frac{df}{dx} = \\frac{d}{dx} f(x) = Df(x) = D_x f(x),$$\n",
        "\n",
        "onde os símbolos $\\frac{d}{dx}$ e $D$ são operadores diferencias utilizados para o cálculo das derivadas. Algumas regras de diferenciação podem ser facilmente aplicadas em funções comuns:\n",
        "\n",
        "* $DC = 0$ ($C$ é uma constante),\n",
        "* $Dx^n = nx^{n-1}$ (regra da potência, $n$ é um número real),\n",
        "* $De^x = e^x$,\n",
        "* $D\\ln(x) = 1/x.$\n",
        "\n",
        "Para o cálculo de derivadas em funções simples, algumas regras poder ser aplicadas.\n",
        "Suponha que a $f$ e $g$ são ambas diferenciáveis e $C$ é uma constante, temos:\n",
        "\n",
        "a regra da *constante*\n",
        "\n",
        "$$\\frac{d}{dx} [Cf(x)] = C \\frac{d}{dx} f(x),$$\n",
        "\n",
        "a regar da *soma*\n",
        "\n",
        "$$\\frac{d}{dx} [f(x) + g(x)] = \\frac{d}{dx} f(x) + \\frac{d}{dx} g(x),$$\n",
        "\n",
        "a regra do *produto*\n",
        "\n",
        "$$\\frac{d}{dx} [f(x)g(x)] = f(x) \\frac{d}{dx} [g(x)] + g(x) \\frac{d}{dx} [f(x)],$$\n",
        "\n",
        "e a regra do *quociente*\n",
        "\n",
        "$$\\frac{d}{dx} \\left[\\frac{f(x)}{g(x)}\\right] = \\frac{g(x) \\frac{d}{dx} [f(x)] - f(x) \\frac{d}{dx} [g(x)]}{[g(x)]^2}.$$\n",
        "\n",
        "\n",
        "Pode-se aplicar algumas dessas regras para se calcular a derivada de uma função, por exemplo, para $u' = f'(x) = 3 \\frac{d}{dx} x^2-4\\frac{d}{dx}x = 6x-4$, considerando $x = 1$, tem-se $u' = 2$. Esta derivada também é chamada de *slope* da reta tangente à curva $u = f(x)$ when $x = 1$."
      ]
    },
    {
      "cell_type": "markdown",
      "metadata": {
        "id": "0ifBxfvi9LqR"
      },
      "source": [
        "(Exercício)\n",
        "\n",
        "Utilizando o *matplotlib*, escreva um programa que permita visualizar(plotar) a função original $f(x)= 3x^2 - 4x$ e sua derivada (reta tangente), em um dado ponto, veja a figura exemplo do professor.\n",
        "\n",
        "Obs: Se possível, realizar update dinânico do gráfico, permitindo a visalização em tempo real. \n"
      ]
    },
    {
      "cell_type": "code",
      "metadata": {
        "id": "e96xLe029tsa"
      },
      "source": [
        "#--> Steps dugeridos\n",
        "\n",
        "# Definindo a função principal quadrática f(x)\n",
        "\n",
        "# Definindo sua derivada (slope)\n",
        "\n",
        "# Definindo o dados para o eixo x. Ex:Linspace\n",
        "\n",
        "# Escolhendo os pontos x e y para plotar a linha tangente\n",
        "\n",
        "# função para calcular a linha tangente\n",
        "\n",
        "# Formatando em um range a reta tangente para visualização\n",
        "\n",
        "# Plotando figura com o matplotlib"
      ],
      "execution_count": null,
      "outputs": []
    }
  ]
}