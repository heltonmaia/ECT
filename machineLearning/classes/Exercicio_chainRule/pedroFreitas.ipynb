{
  "nbformat": 4,
  "nbformat_minor": 0,
  "metadata": {
    "colab": {
      "name": "Exercicio4.ipynb",
      "provenance": []
    },
    "kernelspec": {
      "name": "python3",
      "display_name": "Python 3"
    }
  },
  "cells": [
    {
      "cell_type": "markdown",
      "metadata": {
        "id": "QoQtHn9O7M6t"
      },
      "source": [
        "# Exercício\n",
        "## Utilizando a regra da cadeia, calcule a derivada $dy/dx$ da função y = ($3x^2 - 5x + 2)^6$ no papel, depois resolva utilizando variáveis simbólicas para comparar os resultados. Por fim, plote o gráfico da função e de sua reta tangente em um dado ponto.\n",
        "\n",
        "### $\\frac{dy}{dx} = 6(3x^2 - 5x + 2)(6x - 5) = (36x - 30)(3x^2 - 5x + 2)$"
      ]
    },
    {
      "cell_type": "code",
      "metadata": {
        "id": "-Vi-4sFw7Pg8",
        "outputId": "c250e9e4-036e-4f24-9d2c-c87df7900915",
        "colab": {
          "base_uri": "https://localhost:8080/",
          "height": 52
        }
      },
      "source": [
        "import matplotlib.pyplot as plt\n",
        "import numpy as np\n",
        "from sympy import *\n",
        "\n",
        "#Tornando x e y como varaveis literais\n",
        "x,y = symbols('x y')\n",
        "\n",
        "#Função a ser derivada\n",
        "y = (3*x**2 - 5*x +2)**6\n",
        "print(\"Expressão: {} \".format(y))\n",
        "\n",
        "#Derivada\n",
        "dy_dx = diff(y,x)\n",
        "print(\"Derivada: {}\".format(dy_dx))"
      ],
      "execution_count": 53,
      "outputs": [
        {
          "output_type": "stream",
          "text": [
            "Expressão: (3*x**2 - 5*x + 2)**6 \n",
            "Derivada: (36*x - 30)*(3*x**2 - 5*x + 2)**5\n"
          ],
          "name": "stdout"
        }
      ]
    },
    {
      "cell_type": "code",
      "metadata": {
        "id": "9bfufqs99JdV",
        "outputId": "05572c04-04f8-4151-c590-b26632173cf7",
        "colab": {
          "base_uri": "https://localhost:8080/",
          "height": 311
        }
      },
      "source": [
        "#Declarando um ponto da curva\n",
        "x0 = int(input(\"Digite o ponto x da curva: \"))\n",
        "y0 = y.evalf(subs={x:x0})\n",
        "\n",
        "#Ajustando o dominio para a curva\n",
        "x_curva = np.linspace(-500,500,1000)\n",
        "y_curva = np.zeros(1000)\n",
        "for i in range(len(x_curva)):\n",
        "  y_curva[i] = y.evalf(subs={x:x_curva[i]})\n",
        "\n",
        "\n",
        "#Ajustando o dominio para reta tangente\n",
        "x_reta = np.linspace(x0-100, x0+100, 1000)\n",
        "a = dy_dx.evalf(subs={x:x0})\n",
        "y_reta = a*(x_reta-x0) + y0\n",
        "\n",
        "\n",
        "#Plots\n",
        "plt.plot(x_curva, y_curva)\n",
        "plt.scatter(x0,y0, color=\"red\")\n",
        "\n",
        "plt.plot(x_reta, y_reta, color=\"green\")"
      ],
      "execution_count": 142,
      "outputs": [
        {
          "output_type": "stream",
          "text": [
            "Digite o ponto x da curva: 400\n"
          ],
          "name": "stdout"
        },
        {
          "output_type": "execute_result",
          "data": {
            "text/plain": [
              "[<matplotlib.lines.Line2D at 0x7fef4a1d39e8>]"
            ]
          },
          "metadata": {
            "tags": []
          },
          "execution_count": 142
        },
        {
          "output_type": "display_data",
          "data": {
            "image/png": "[encoded data removed]",
            "text/plain": [
              "<Figure size 432x288 with 1 Axes>"
            ]
          },
          "metadata": {
            "tags": [],
            "needs_background": "light"
          }
        }
      ]
    }
  ]
}