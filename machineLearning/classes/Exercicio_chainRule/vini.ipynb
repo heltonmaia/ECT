{
  "nbformat": 4,
  "nbformat_minor": 0,
  "metadata": {
    "colab": {
      "name": "Aula14/10.ipynb",
      "provenance": []
    },
    "kernelspec": {
      "name": "python3",
      "display_name": "Python 3"
    }
  },
  "cells": [
    {
      "cell_type": "markdown",
      "metadata": {
        "id": "brbUPoWg8dwA"
      },
      "source": [
        "### (Exercício) Utilizando a regra da cadeia, calcule a derivada $dy/dx$ da função y = ($3x^2 - 5x + 2)^6$ no papel, depois resolva utilizando variáveis simbólicas para comparar os resultados. Por fim, plote o gráfico da função e de sua reta tangente em um dado ponto."
      ]
    },
    {
      "cell_type": "code",
      "metadata": {
        "id": "lvdfDZ8E7j3A",
        "outputId": "2fac4883-ac31-4291-a855-5d08b990d20d",
        "colab": {
          "base_uri": "https://localhost:8080/",
          "height": 68
        }
      },
      "source": [
        "from sympy import *\n",
        "import matplotlib.pyplot as plt\n",
        "import numpy as np\n",
        "\n",
        "\n",
        "x, y = symbols('x y') \n",
        "res = x**2 + 2 * y + y**3\n",
        "print(\"Expressão : {} \".format(res)) \n",
        "\n",
        "# Usando o sympy.Derivative() method \n",
        "res_diff_x = diff(res, x) \n",
        "res_diff_y = diff(res, y) \n",
        "\t\n",
        "print(\"Derivada da expressao em x : {}\".format(res_diff_x)) \n",
        "print(\"Derivada da expressao em y : {}\".format(res_diff_y))"
      ],
      "execution_count": 8,
      "outputs": [
        {
          "output_type": "stream",
          "text": [
            "Expressão : x**2 + y**3 + 2*y \n",
            "Derivada da expressao em x : 2*x\n",
            "Derivada da expressao em y : 3*y**2 + 2\n"
          ],
          "name": "stdout"
        }
      ]
    },
    {
      "cell_type": "code",
      "metadata": {
        "id": "PZppdkMb8yr2",
        "outputId": "711aa8ca-73c5-4ff4-f6eb-75a117e31632",
        "colab": {
          "base_uri": "https://localhost:8080/",
          "height": 310
        }
      },
      "source": [
        "def f(x):\n",
        "  return (3*x**2-5*x+2)**6\n",
        "\n",
        "def derivada(x1):\n",
        "  return (36*x1 - 30)*(3*x1**2 - 5*x1 + 2)**5\n",
        "\n",
        "def linha(x,x1,y1):\n",
        "  return derivada(x1)*(x-x1)+y1\n",
        "\n",
        "\n",
        "\n",
        "x = symbols('x')\n",
        "y = (3*x**2-5*x+2)**6\n",
        "\n",
        "y_ret = diff(y,x)\n",
        "\n",
        "x1 = np.linspace(-10,10,1000)\n",
        "x2=-8\n",
        "y2=f(x2)\n",
        "\n",
        "print(f\"Derivada da empressao em x: {y_ret}\")\n",
        "\n",
        "plt.plot(x1,f(x1))\n",
        "plt.scatter(x2,y2,color=\"r\")\n",
        "xrange = np.linspace(x2-3,x2+3,100)\n",
        "plt.plot(xrange,linha(xrange,x2,y2), \"r--\",linewidth=1.5)"
      ],
      "execution_count": 26,
      "outputs": [
        {
          "output_type": "stream",
          "text": [
            "Derivada da empressao em x: (36*x - 30)*(3*x**2 - 5*x + 2)**5\n"
          ],
          "name": "stdout"
        },
        {
          "output_type": "execute_result",
          "data": {
            "text/plain": [
              "[<matplotlib.lines.Line2D at 0x7fc339f67748>]"
            ]
          },
          "metadata": {
            "tags": []
          },
          "execution_count": 26
        },
        {
          "output_type": "display_data",
          "data": {
            "image/png": "[encoded data removed]",
            "text/plain": [
              "<Figure size 432x288 with 1 Axes>"
            ]
          },
          "metadata": {
            "tags": [],
            "needs_background": "light"
          }
        }
      ]
    },
    {
      "cell_type": "code",
      "metadata": {
        "id": "vA1L1Bt_CKuA"
      },
      "source": [
        ""
      ],
      "execution_count": null,
      "outputs": []
    }
  ]
}