{
  "nbformat": 4,
  "nbformat_minor": 0,
  "metadata": {
    "colab": {
      "name": "vilson.ipynb",
      "provenance": []
    },
    "kernelspec": {
      "name": "python3",
      "display_name": "Python 3"
    }
  },
  "cells": [
    {
      "cell_type": "markdown",
      "metadata": {
        "id": "3FdBoeXhuSb-"
      },
      "source": [
        "(Exercício) Utilizando a regra da cadeia, calcule a derivada $dy/dx$ da função y = ($3x^2 - 5x + 2)^6$ no papel, depois resolva utilizando variáveis simbólicas para comparar os resultados. Por fim, plote o gráfico da função e de sua reta tangente em um dado ponto."
      ]
    },
    {
      "cell_type": "markdown",
      "metadata": {
        "id": "8d0SZRM7xIEW"
      },
      "source": [
        "Resultado:"
      ]
    },
    {
      "cell_type": "markdown",
      "metadata": {
        "id": "4ujL5zUaxFu1"
      },
      "source": [
        "6(3x^2−5x+2)^5(6x−5)"
      ]
    },
    {
      "cell_type": "markdown",
      "metadata": {
        "id": "o07WYAxiuYi2"
      },
      "source": [
        "Libs"
      ]
    },
    {
      "cell_type": "code",
      "metadata": {
        "id": "kH0sXjDxuZ30"
      },
      "source": [
        "import numpy as np\n",
        "from sympy import *\n",
        "import matplotlib.pyplot as plt\n",
        "import seaborn as sns\n",
        "sns.set()"
      ],
      "execution_count": 43,
      "outputs": []
    },
    {
      "cell_type": "markdown",
      "metadata": {
        "id": "zYyDSDtqytJq"
      },
      "source": [
        "Declarando expressão"
      ]
    },
    {
      "cell_type": "code",
      "metadata": {
        "id": "cXzk1kxTzuAn",
        "outputId": "8ee4476f-31e0-4e8e-9241-bec3f213729d",
        "colab": {
          "base_uri": "https://localhost:8080/",
          "height": 35
        }
      },
      "source": [
        "def f(x):\n",
        "  return (3*x**2 - 5*x + 2)**6\n",
        "\n",
        "x = symbols('x') \n",
        "print('O formato da expressão é', f(x))"
      ],
      "execution_count": 9,
      "outputs": [
        {
          "output_type": "stream",
          "text": [
            "O formato da expressão é (3*x**2 - 5*x + 2)**6\n"
          ],
          "name": "stdout"
        }
      ]
    },
    {
      "cell_type": "markdown",
      "metadata": {
        "id": "ZkUZG0_2vzT4"
      },
      "source": [
        "Aplicando a diferenciação "
      ]
    },
    {
      "cell_type": "code",
      "metadata": {
        "id": "R5mblmujyaDn",
        "outputId": "d938d9b6-957a-40b9-9c53-8e6b14f3aacb",
        "colab": {
          "base_uri": "https://localhost:8080/",
          "height": 35
        }
      },
      "source": [
        "dydx = diff(f(x),x)\n",
        "print('Derivada da expressão é', dydx)"
      ],
      "execution_count": 10,
      "outputs": [
        {
          "output_type": "stream",
          "text": [
            "Derivada da expressão é (36*x - 30)*(3*x**2 - 5*x + 2)**5\n"
          ],
          "name": "stdout"
        }
      ]
    },
    {
      "cell_type": "markdown",
      "metadata": {
        "id": "sjgwTVWlzAEN"
      },
      "source": [
        "Declarando pontos iniciais "
      ]
    },
    {
      "cell_type": "code",
      "metadata": {
        "id": "5NVU65v9y9vU"
      },
      "source": [
        "x0 = 15\n",
        "y0 = f(x0)"
      ],
      "execution_count": 82,
      "outputs": []
    },
    {
      "cell_type": "markdown",
      "metadata": {
        "id": "ABDsfRRd07Mi"
      },
      "source": [
        "Domínio de variação e cálculo da tangente"
      ]
    },
    {
      "cell_type": "code",
      "metadata": {
        "id": "ckZlQHBV0m-H"
      },
      "source": [
        "axisX = np.linspace(-15,15,100)\n",
        "Xset = np.linspace(x0 - 2, x0 + 2, 100)\n",
        "line = dydx.subs(x, x0)*(Xset - x0) + y0"
      ],
      "execution_count": 84,
      "outputs": []
    },
    {
      "cell_type": "markdown",
      "metadata": {
        "id": "jK0MpnxM1kVS"
      },
      "source": [
        "Plot"
      ]
    },
    {
      "cell_type": "code",
      "metadata": {
        "id": "kYtsPUVx1lJZ",
        "outputId": "2d9991d3-6abc-4239-e680-6be22fc122ce",
        "colab": {
          "base_uri": "https://localhost:8080/",
          "height": 284
        }
      },
      "source": [
        "plt.plot(axisX, f(axisX), color = 'red')\n",
        "plt.scatter(x0, y0, color = 'black')\n",
        "plt.plot(Xset, line, 'gray', linewidth=3.5)\n",
        "plt.title('Derivada da expressão')\n",
        "plt.show()"
      ],
      "execution_count": 85,
      "outputs": [
        {
          "output_type": "display_data",
          "data": {
            "image/png": "[encoded data removed]",
            "text/plain": [
              "<Figure size 432x288 with 1 Axes>"
            ]
          },
          "metadata": {
            "tags": []
          }
        }
      ]
    }
  ]
}