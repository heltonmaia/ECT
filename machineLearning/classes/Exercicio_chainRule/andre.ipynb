{
 "metadata": {
  "language_info": {
   "codemirror_mode": {
    "name": "ipython",
    "version": 3
   },
   "file_extension": ".py",
   "mimetype": "text/x-python",
   "name": "python",
   "nbconvert_exporter": "python",
   "pygments_lexer": "ipython3",
   "version": "3.6.9-final"
  },
  "orig_nbformat": 2,
  "kernelspec": {
   "name": "Python 3.6.9 64-bit",
   "display_name": "Python 3.6.9 64-bit",
   "metadata": {
    "interpreter": {
     "hash": "31f2aee4e71d21fbe5cf8b01ff0e069b9275f58929596ceb00d14d90e3e16cd6"
    }
   }
  }
 },
 "nbformat": 4,
 "nbformat_minor": 2,
 "cells": [
  {
   "cell_type": "code",
   "execution_count": null,
   "metadata": {},
   "outputs": [],
   "source": [
    "#Bibliotecas que poderão ser usadas\n",
    "\n",
    "import matplotlib.pyplot as plt  \n",
    "import pandas as pd \n",
    "import numpy as np \n",
    "import random\n",
    "import time\n",
    "import csv\n",
    "import cv2 \n",
    "import os\n",
    "\n",
    "from sympy import *\n",
    "\n",
    "path = '/home/andre/Documentos/visual_studio/python/jupyter/cálculo/fotos do grafico/'"
   ]
  },
  {
   "cell_type": "code",
   "execution_count": null,
   "metadata": {},
   "outputs": [],
   "source": [
    "#Cria a variavel de derivação e deriva a funçaõ dada na questão\n",
    "x= symbols('x')\n",
    "\n",
    "funcao = ((3*x**2-5*x+2))**6\n",
    "derivada = diff(funcao, x)\n",
    "\n",
    "#print par achar a deriva da função e mostrar a primitiva\n",
    "#print(funcao)\n",
    "#print(derivada)\n",
    "\n",
    "\n",
    "def plotar_primitiva(x):\n",
    "    return ((3*x**2-5*x+2))**6\n",
    "\n",
    "def obter_derivada(x):\n",
    "    #função adquirida depois de derivar utilizando a biblioteca sympy a variavel 'funcao'\n",
    "    return (36*x - 30)*(3*x**2 - 5*x + 2)**5\n",
    "\n",
    "#   Cálcula a reta tangente a curva, utiliza a função e obter a derivada para encontrar\n",
    "#o coeficiente angular da reta, pois no cálculo a primeira derivada é o comportamente da curva\n",
    "#se ela esta decrescente (derivada indo do positivo para negativo) ou crescente\n",
    "#(derivaa indo do negativo ao positivo) \n",
    "def reta_tangente(x1,x0,y0):\n",
    "    m = obter_derivada(x0)\n",
    "    return y0 + m*(x1 - x0)\n"
   ]
  },
  {
   "cell_type": "code",
   "execution_count": null,
   "metadata": {},
   "outputs": [],
   "source": [
    "#Define o dominio que a função utilizará\n",
    "xlabel = np.linspace(-10,10,20)\n",
    "ylabel = np.linspace(-10,10,20)\n",
    "\n",
    "#Essas linhas servem para gerar um ponto aleatório para plotar os gráficos (serve mais para debug)\n",
    "\n",
    "#coleta um ponto qualquer da reta\n",
    "ponto = random.randint(0,19)\n",
    "#print(ponto) #debug\n",
    "x0 = xlabel[ponto]\n",
    "y0 = plotar_primitiva(x0)\n",
    "\n",
    "\n",
    "#Gera o gráfico da função e da reta tangente como também o ponto de encontro entre a curva e a função \n",
    "plt.plot(xlabel, plotar_primitiva(ylabel), color='black', ls='--')\n",
    "plt.plot(xlabel, reta_tangente(xlabel,x0, y0), color='blue', lw=0.8)\n",
    "plt.scatter(x0,y0, color='red')\n",
    "\n",
    "#   limita os eixos para não haver deformidades durante as trocas dos pontos,\n",
    "#tendo a sensação que o gráfico está estático\n",
    "plt.xlim(-11,11)\n",
    "plt.ylim(-1e15, 2e15)\n",
    "\n",
    "plt.show()\n",
    "\n"
   ]
  },
  {
   "cell_type": "code",
   "execution_count": null,
   "metadata": {},
   "outputs": [],
   "source": [
    "#gráficos que mostram os comportamentos da função e da derivada, como também a reta em um ponto qualquer\n",
    "\n",
    "#Mostra a primitica\n",
    "plt.subplot(3,1,1)\n",
    "plt.plot(xlabel, plotar_primitiva(xlabel))\n",
    "\n",
    "#mostra o comportamento do coeficiente angular da reta tangente \n",
    "plt.subplot(3,1,2)\n",
    "plt.plot(xlabel, obter_derivada(xlabel))\n",
    "\n",
    "#mostra a reta tangente\n",
    "plt.subplot(3,1,3)\n",
    "plt.plot(xlabel, reta_tangente(xlabel,x0, y0))\n"
   ]
  },
  {
   "cell_type": "code",
   "execution_count": null,
   "metadata": {},
   "outputs": [],
   "source": [
    "#salva as figuras de ponto a ponto\n",
    "for num in range(0,20):\n",
    "    x0 = xlabel[num]\n",
    "    y0 = plotar_primitiva(x0)\n",
    "\n",
    "    plt.plot(xlabel, plotar_primitiva(ylabel), color='black', ls='--')\n",
    "    plt.plot(xlabel, reta_tangente(xlabel,x0, y0), color='blue', lw=0.8)\n",
    "    plt.scatter(x0,y0, color='red')\n",
    "\n",
    "    plt.xlim(-11,11)\n",
    "    plt.ylim(-1e15, 2e15)\n",
    "\n",
    "    plt.savefig(path+f'gráfico{num}', dpi=96)\n",
    "\n",
    "    #   Deve salvar a figura antes da função 'plt.show()', caso salve depois, as fotos estarão em branco.\n",
    "    #E se não colocar o 'plt.show()' os gráficos estarão bagunçados, vai salvar a figura seguinte\n",
    "    #com os pontos anteriores\n",
    "    plt.show()\n"
   ]
  },
  {
   "cell_type": "code",
   "execution_count": null,
   "metadata": {},
   "outputs": [],
   "source": [
    "#Essa parte serviu mais para saber como salvar as imagens\n",
    "for num in range(0,20):\n",
    "    x0 = xlabel[num]\n",
    "    y0 = plotar_primitiva(x0)\n",
    "\n",
    "    plt.plot(xlabel, plotar_primitiva(ylabel), color='black', ls='--')\n",
    "    plt.plot(xlabel, reta_tangente(xlabel,x0, y0), color='blue', lw=0.8)\n",
    "    plt.scatter(x0,y0, color='red')\n",
    "\n",
    "    plt.xlim(-11,11)\n",
    "    plt.ylim(-1e15, 2e15)\n",
    "\n",
    "    plt.show()\n"
   ]
  },
  {
   "cell_type": "code",
   "execution_count": null,
   "metadata": {},
   "outputs": [],
   "source": []
  }
 ]
}