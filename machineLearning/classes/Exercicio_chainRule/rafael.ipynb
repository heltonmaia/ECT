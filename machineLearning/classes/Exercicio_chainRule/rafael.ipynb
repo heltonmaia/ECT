{
  "nbformat": 4,
  "nbformat_minor": 0,
  "metadata": {
    "colab": {
      "name": "rafael.ipynb",
      "provenance": []
    },
    "kernelspec": {
      "name": "python3",
      "display_name": "Python 3"
    }
  },
  "cells": [
    {
      "cell_type": "markdown",
      "metadata": {
        "id": "6ISHNjsEg5IV"
      },
      "source": [
        "(Exercício) Utilizando a regra da cadeia, calcule a derivada $dy/dx$ da função $y = (3x^2 - 5x + 2)^6$ no papel, depois resolva utilizando variáveis simbólicas para comparar os resultados. Por fim, plote o gráfico da função e de sua reta tangente em um dado ponto.\n",
        "\n",
        "Derivada calculada no papel: \n",
        "\n",
        "$y' = 6(6x - 5)(3x^2 - 5x +2 )^5 $\n",
        "\n",
        "Derivada calculada pelo método diff:\n",
        "\n",
        "$y'=(36x - 30)(3x^2 - 5x + 2)^5$"
      ]
    },
    {
      "cell_type": "code",
      "metadata": {
        "id": "p80tNGlMgwlL",
        "outputId": "ff4b22d0-6fa3-4225-dc6b-7fe31fec114a",
        "colab": {
          "base_uri": "https://localhost:8080/",
          "height": 310
        }
      },
      "source": [
        "from sympy import *\n",
        "import numpy as np\n",
        "import matplotlib.pyplot as plt\n",
        "\n",
        "# declarando a função:\n",
        "x = symbols('x')\n",
        "def f(x): \n",
        "  return (3*x**2 - 5*x +2)**6\n",
        "\n",
        "# cálculo da derivada de x pelo método diff():\n",
        "derivada = diff(f(x), x)\n",
        "print('derivada dy/dx pelo método diff = ',derivada)\n",
        "\n",
        "# pontos para plotar a linha tangente\n",
        "x1 = 9\n",
        "y1 = f(x1)\n",
        "\n",
        "# dominio da curva\n",
        "eixox = np.linspace(-10,10,1000)\n",
        "\n",
        "# calculando a linha tangente\n",
        "xrange = np.linspace(x1-2, x1+2, 100)\n",
        "linha = derivada.subs(x,x1)*(xrange-x1)+y1\n",
        "\n",
        "# Formatando a tangente para visualização\n",
        "plt.plot(eixox,f(eixox))\n",
        "plt.scatter(x1,y1,color='g')\n",
        "plt.plot(xrange, linha, \"g--\",linewidth=1.5)"
      ],
      "execution_count": 1,
      "outputs": [
        {
          "output_type": "stream",
          "text": [
            "derivada dy/dx pelo método diff =  (36*x - 30)*(3*x**2 - 5*x + 2)**5\n"
          ],
          "name": "stdout"
        },
        {
          "output_type": "execute_result",
          "data": {
            "text/plain": [
              "[<matplotlib.lines.Line2D at 0x7f555574a6a0>]"
            ]
          },
          "metadata": {
            "tags": []
          },
          "execution_count": 1
        },
        {
          "output_type": "display_data",
          "data": {
            "image/png": "[encoded data removed]",
            "text/plain": [
              "<Figure size 432x288 with 1 Axes>"
            ]
          },
          "metadata": {
            "tags": [],
            "needs_background": "light"
          }
        }
      ]
    }
  ]
}